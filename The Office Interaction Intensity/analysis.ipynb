{
 "cells": [
  {
   "cell_type": "markdown",
   "metadata": {},
   "source": [
    "# Incomplete Project"
   ]
  },
  {
   "cell_type": "markdown",
   "metadata": {},
   "source": [
    "## Imports"
   ]
  },
  {
   "cell_type": "code",
   "execution_count": 1,
   "metadata": {},
   "outputs": [],
   "source": [
    "import pandas as pd\n",
    "import numpy as np\n",
    "import seaborn as sns\n",
    "import matplotlib.pyplot as plt\n",
    "from nltk.tokenize import RegexpTokenizer\n",
    "from sklearn.linear_model import LinearRegression\n",
    "from scipy.stats import pearsonr"
   ]
  },
  {
   "cell_type": "markdown",
   "metadata": {},
   "source": [
    "## Get Data"
   ]
  },
  {
   "cell_type": "code",
   "execution_count": 2,
   "metadata": {},
   "outputs": [
    {
     "data": {
      "text/html": [
       "<div>\n",
       "<style scoped>\n",
       "    .dataframe tbody tr th:only-of-type {\n",
       "        vertical-align: middle;\n",
       "    }\n",
       "\n",
       "    .dataframe tbody tr th {\n",
       "        vertical-align: top;\n",
       "    }\n",
       "\n",
       "    .dataframe thead th {\n",
       "        text-align: right;\n",
       "    }\n",
       "</style>\n",
       "<table border=\"1\" class=\"dataframe\">\n",
       "  <thead>\n",
       "    <tr style=\"text-align: right;\">\n",
       "      <th></th>\n",
       "      <th></th>\n",
       "      <th>title</th>\n",
       "      <th>scene</th>\n",
       "      <th>speaker</th>\n",
       "      <th>line</th>\n",
       "      <th>num_words</th>\n",
       "    </tr>\n",
       "    <tr>\n",
       "      <th>season</th>\n",
       "      <th>episode</th>\n",
       "      <th></th>\n",
       "      <th></th>\n",
       "      <th></th>\n",
       "      <th></th>\n",
       "      <th></th>\n",
       "    </tr>\n",
       "  </thead>\n",
       "  <tbody>\n",
       "    <tr>\n",
       "      <th rowspan=\"5\" valign=\"top\">1</th>\n",
       "      <th>1</th>\n",
       "      <td>Pilot</td>\n",
       "      <td>1</td>\n",
       "      <td>Michael</td>\n",
       "      <td>All right Jim. Your quarterlies look very good...</td>\n",
       "      <td>14</td>\n",
       "    </tr>\n",
       "    <tr>\n",
       "      <th>1</th>\n",
       "      <td>Pilot</td>\n",
       "      <td>1</td>\n",
       "      <td>Jim</td>\n",
       "      <td>Oh, I told you. I couldn't close it. So...</td>\n",
       "      <td>10</td>\n",
       "    </tr>\n",
       "    <tr>\n",
       "      <th>1</th>\n",
       "      <td>Pilot</td>\n",
       "      <td>1</td>\n",
       "      <td>Michael</td>\n",
       "      <td>So you've come to the master for guidance? Is ...</td>\n",
       "      <td>16</td>\n",
       "    </tr>\n",
       "    <tr>\n",
       "      <th>1</th>\n",
       "      <td>Pilot</td>\n",
       "      <td>1</td>\n",
       "      <td>Jim</td>\n",
       "      <td>Actually, you called me in here, but yeah.</td>\n",
       "      <td>8</td>\n",
       "    </tr>\n",
       "    <tr>\n",
       "      <th>1</th>\n",
       "      <td>Pilot</td>\n",
       "      <td>1</td>\n",
       "      <td>Michael</td>\n",
       "      <td>All right. Well, let me show you how it's done.</td>\n",
       "      <td>11</td>\n",
       "    </tr>\n",
       "    <tr>\n",
       "      <th>...</th>\n",
       "      <th>...</th>\n",
       "      <td>...</td>\n",
       "      <td>...</td>\n",
       "      <td>...</td>\n",
       "      <td>...</td>\n",
       "      <td>...</td>\n",
       "    </tr>\n",
       "    <tr>\n",
       "      <th rowspan=\"5\" valign=\"top\">7</th>\n",
       "      <th>25</th>\n",
       "      <td>Search Committee (Parts 1&amp;2)</td>\n",
       "      <td>6019</td>\n",
       "      <td>Pam as \"ninth-biggest client\"</td>\n",
       "      <td>Hello!</td>\n",
       "      <td>1</td>\n",
       "    </tr>\n",
       "    <tr>\n",
       "      <th>25</th>\n",
       "      <td>Search Committee (Parts 1&amp;2)</td>\n",
       "      <td>6019</td>\n",
       "      <td>Pam as \"fourth-biggest client\"</td>\n",
       "      <td>Hi, how are ya?</td>\n",
       "      <td>4</td>\n",
       "    </tr>\n",
       "    <tr>\n",
       "      <th>25</th>\n",
       "      <td>Search Committee (Parts 1&amp;2)</td>\n",
       "      <td>6019</td>\n",
       "      <td>Pam as \"ninth-biggest client\"</td>\n",
       "      <td>Ohho! I'm good! Don't you just love paper, and...</td>\n",
       "      <td>14</td>\n",
       "    </tr>\n",
       "    <tr>\n",
       "      <th>25</th>\n",
       "      <td>Search Committee (Parts 1&amp;2)</td>\n",
       "      <td>6019</td>\n",
       "      <td>Pam as \"fourth-biggest client\"</td>\n",
       "      <td>Hey, are you single? This seems like a love co...</td>\n",
       "      <td>12</td>\n",
       "    </tr>\n",
       "    <tr>\n",
       "      <th>25</th>\n",
       "      <td>Search Committee (Parts 1&amp;2)</td>\n",
       "      <td>6019</td>\n",
       "      <td>Creed</td>\n",
       "      <td>It's Kismet!</td>\n",
       "      <td>3</td>\n",
       "    </tr>\n",
       "  </tbody>\n",
       "</table>\n",
       "<p>40788 rows × 5 columns</p>\n",
       "</div>"
      ],
      "text/plain": [
       "                                       title  scene  \\\n",
       "season episode                                        \n",
       "1      1                               Pilot      1   \n",
       "       1                               Pilot      1   \n",
       "       1                               Pilot      1   \n",
       "       1                               Pilot      1   \n",
       "       1                               Pilot      1   \n",
       "...                                      ...    ...   \n",
       "7      25       Search Committee (Parts 1&2)   6019   \n",
       "       25       Search Committee (Parts 1&2)   6019   \n",
       "       25       Search Committee (Parts 1&2)   6019   \n",
       "       25       Search Committee (Parts 1&2)   6019   \n",
       "       25       Search Committee (Parts 1&2)   6019   \n",
       "\n",
       "                                       speaker  \\\n",
       "season episode                                   \n",
       "1      1                               Michael   \n",
       "       1                                   Jim   \n",
       "       1                               Michael   \n",
       "       1                                   Jim   \n",
       "       1                               Michael   \n",
       "...                                        ...   \n",
       "7      25        Pam as \"ninth-biggest client\"   \n",
       "       25       Pam as \"fourth-biggest client\"   \n",
       "       25        Pam as \"ninth-biggest client\"   \n",
       "       25       Pam as \"fourth-biggest client\"   \n",
       "       25                                Creed   \n",
       "\n",
       "                                                             line  num_words  \n",
       "season episode                                                                \n",
       "1      1        All right Jim. Your quarterlies look very good...         14  \n",
       "       1               Oh, I told you. I couldn't close it. So...         10  \n",
       "       1        So you've come to the master for guidance? Is ...         16  \n",
       "       1               Actually, you called me in here, but yeah.          8  \n",
       "       1          All right. Well, let me show you how it's done.         11  \n",
       "...                                                           ...        ...  \n",
       "7      25                                                  Hello!          1  \n",
       "       25                                        Hi, how are ya?           4  \n",
       "       25       Ohho! I'm good! Don't you just love paper, and...         14  \n",
       "       25       Hey, are you single? This seems like a love co...         12  \n",
       "       25                                            It's Kismet!          3  \n",
       "\n",
       "[40788 rows x 5 columns]"
      ]
     },
     "execution_count": 2,
     "metadata": {},
     "output_type": "execute_result"
    }
   ],
   "source": [
    "\n",
    "dialogue_df = pd.read_csv(\"data/The-Office-Lines-V2.csv\", index_col=[\"season\", \"episode\"])\n",
    "tokenizer = RegexpTokenizer(r'\\w+')\n",
    "dialogue_df[\"num_words\"] = dialogue_df[\"line\"].apply(lambda x: len(tokenizer.tokenize(x)))\n",
    "\n",
    "rating_df = pd.read_csv(\"data/TheOfficeIMDBPerEpisode.csv\")\n",
    "rating_df[\"episode\"] = [x[1] for x in dialogue_df.index.unique()]\n",
    "rating_df = rating_df[[\"Season\", \"episode\", \"Title\", \"Rating\"]]\n",
    "rating_df.columns = [\"season\", \"episode\", \"title\", \"rating\"]\n",
    "rating_df\n",
    "rating_df.set_index([\"season\", \"episode\"], inplace=True)\n",
    "\n",
    "rating_df = rating_df.loc[:7]\n",
    "dialogue_df = dialogue_df.loc[:7]\n",
    "# sns.regplot(x=np.arange(len(rating_df)), y=\"rating\", data=rating_df)\n",
    "dialogue_df\n",
    "# rating_df.loc[rating_df[\"rating\"].argmin()]"
   ]
  },
  {
   "cell_type": "markdown",
   "metadata": {},
   "source": [
    "## Get character number of dialogues"
   ]
  },
  {
   "cell_type": "code",
   "execution_count": 3,
   "metadata": {},
   "outputs": [],
   "source": [
    "wrong_names = {\"Michael: \":\"Michael\", \"Deangelo\":\"DeAngelo\", \"David Wallace\": \"David\", \"Daryl\":\"Darryl\", \"Dwight: \":\"Dwight\", \"Jim: \":\"Jim\", \"Pam: \":\"Pam\"}\n",
    "dialogue_df[\"speaker\"].replace({\"Michael: \":\"Michael\"}, inplace=True)"
   ]
  },
  {
   "cell_type": "markdown",
   "metadata": {},
   "source": [
    "## Visualize Rating"
   ]
  },
  {
   "cell_type": "code",
   "execution_count": 4,
   "metadata": {},
   "outputs": [
    {
     "data": {
      "text/plain": [
       "<AxesSubplot:xlabel='rating', ylabel='Density'>"
      ]
     },
     "execution_count": 4,
     "metadata": {},
     "output_type": "execute_result"
    },
    {
     "data": {
      "image/png": "[encoded data removed]",
      "text/plain": [
       "<Figure size 432x288 with 1 Axes>"
      ]
     },
     "metadata": {
      "needs_background": "light"
     },
     "output_type": "display_data"
    }
   ],
   "source": [
    "# sns.regplot(x=np.arange(len(rating_df)), y=\"rating\", data=rating_df)\n",
    "rating_df[\"rating\"].value_counts()\n",
    "sns.kdeplot(rating_df[\"rating\"])"
   ]
  },
  {
   "cell_type": "markdown",
   "metadata": {},
   "source": [
    "# Make Plot"
   ]
  },
  {
   "cell_type": "code",
   "execution_count": 5,
   "metadata": {
    "tags": []
   },
   "outputs": [
    {
     "data": {
      "text/html": [
       "<div>\n",
       "<style scoped>\n",
       "    .dataframe tbody tr th:only-of-type {\n",
       "        vertical-align: middle;\n",
       "    }\n",
       "\n",
       "    .dataframe tbody tr th {\n",
       "        vertical-align: top;\n",
       "    }\n",
       "\n",
       "    .dataframe thead th {\n",
       "        text-align: right;\n",
       "    }\n",
       "</style>\n",
       "<table border=\"1\" class=\"dataframe\">\n",
       "  <thead>\n",
       "    <tr style=\"text-align: right;\">\n",
       "      <th></th>\n",
       "      <th>character</th>\n",
       "      <th>pearson</th>\n",
       "      <th>p_val</th>\n",
       "      <th>lin_coef</th>\n",
       "    </tr>\n",
       "  </thead>\n",
       "  <tbody>\n",
       "    <tr>\n",
       "      <th>6</th>\n",
       "      <td>Angela</td>\n",
       "      <td>0.192895</td>\n",
       "      <td>0.031143</td>\n",
       "      <td>0.001055</td>\n",
       "    </tr>\n",
       "    <tr>\n",
       "      <th>5</th>\n",
       "      <td>Kevin</td>\n",
       "      <td>0.116847</td>\n",
       "      <td>0.183811</td>\n",
       "      <td>0.001023</td>\n",
       "    </tr>\n",
       "    <tr>\n",
       "      <th>8</th>\n",
       "      <td>Oscar</td>\n",
       "      <td>0.100748</td>\n",
       "      <td>0.284021</td>\n",
       "      <td>0.000769</td>\n",
       "    </tr>\n",
       "    <tr>\n",
       "      <th>3</th>\n",
       "      <td>Pam</td>\n",
       "      <td>0.213773</td>\n",
       "      <td>0.012132</td>\n",
       "      <td>0.000643</td>\n",
       "    </tr>\n",
       "    <tr>\n",
       "      <th>9</th>\n",
       "      <td>Jan</td>\n",
       "      <td>0.260732</td>\n",
       "      <td>0.124566</td>\n",
       "      <td>0.000641</td>\n",
       "    </tr>\n",
       "    <tr>\n",
       "      <th>1</th>\n",
       "      <td>Dwight</td>\n",
       "      <td>0.176971</td>\n",
       "      <td>0.038568</td>\n",
       "      <td>0.000413</td>\n",
       "    </tr>\n",
       "    <tr>\n",
       "      <th>2</th>\n",
       "      <td>Jim</td>\n",
       "      <td>0.152627</td>\n",
       "      <td>0.076080</td>\n",
       "      <td>0.000381</td>\n",
       "    </tr>\n",
       "    <tr>\n",
       "      <th>0</th>\n",
       "      <td>Michael</td>\n",
       "      <td>0.245345</td>\n",
       "      <td>0.003990</td>\n",
       "      <td>0.000313</td>\n",
       "    </tr>\n",
       "    <tr>\n",
       "      <th>7</th>\n",
       "      <td>Ryan</td>\n",
       "      <td>0.022621</td>\n",
       "      <td>0.812860</td>\n",
       "      <td>0.000089</td>\n",
       "    </tr>\n",
       "    <tr>\n",
       "      <th>4</th>\n",
       "      <td>Andy</td>\n",
       "      <td>-0.087146</td>\n",
       "      <td>0.386185</td>\n",
       "      <td>-0.000260</td>\n",
       "    </tr>\n",
       "  </tbody>\n",
       "</table>\n",
       "</div>"
      ],
      "text/plain": [
       "  character   pearson     p_val  lin_coef\n",
       "6    Angela  0.192895  0.031143  0.001055\n",
       "5     Kevin  0.116847  0.183811  0.001023\n",
       "8     Oscar  0.100748  0.284021  0.000769\n",
       "3       Pam  0.213773  0.012132  0.000643\n",
       "9       Jan  0.260732  0.124566  0.000641\n",
       "1    Dwight  0.176971  0.038568  0.000413\n",
       "2       Jim  0.152627  0.076080  0.000381\n",
       "0   Michael  0.245345  0.003990  0.000313\n",
       "7      Ryan  0.022621  0.812860  0.000089\n",
       "4      Andy -0.087146  0.386185 -0.000260"
      ]
     },
     "execution_count": 5,
     "metadata": {},
     "output_type": "execute_result"
    },
    {
     "data": {
      "image/png": "[encoded data removed]",
      "text/plain": [
       "<Figure size 504x360 with 1 Axes>"
      ]
     },
     "metadata": {
      "needs_background": "light"
     },
     "output_type": "display_data"
    }
   ],
   "source": [
    "characters = list(dialogue_df[\"speaker\"].value_counts()[:10].index)\n",
    "\n",
    "combined_df = rating_df.copy()\n",
    "for character in characters:\n",
    "    character_text_df = dialogue_df[dialogue_df[\"speaker\"] == character].groupby([\"season\", \"episode\"]).sum()[\"num_words\"].to_frame()\n",
    "    character_text_df.index.name = \"id\"\n",
    "    character_text_df.columns = [character]\n",
    "    combined_df = pd.concat((combined_df, character_text_df), axis=1)\n",
    "combined_df\n",
    "fig, ax = plt.subplots()\n",
    "fig.set_size_inches(7, 5)\n",
    "sns.despine()\n",
    "plt.xticks(rotation=45)\n",
    "# ax.set_ylim(-1, 1)\n",
    "\n",
    "pearson = []\n",
    "lin_coef = []\n",
    "p_vals = []\n",
    "for character in characters:\n",
    "    y = np.array(combined_df[\"rating\"])\n",
    "    X = combined_df[character].to_numpy()\n",
    "\n",
    "    y = y[~np.isnan(X)]\n",
    "    X = X[~np.isnan(X)]\n",
    "\n",
    "    # sns.regplot(X, y, scatter=True, ax=ax)\n",
    "    model = LinearRegression().fit(X.reshape(-1,1), y)\n",
    "    # plt.scatter(X, y)\n",
    "    # plt.plot(np.linspace(0,2000,2000), model.predict(np.linspace(0,2000,2000).reshape(-1,1)))\n",
    "    lin_coef.append(model.coef_[0]) #pearsonr(X,y)[0])\n",
    "    pearson.append(pearsonr(X,y)[0])\n",
    "    p_vals.append(pearsonr(X,y)[1])\n",
    "\n",
    "influence_df = pd.DataFrame({\"character\": characters, \"pearson\": pearson, \"p_val\": p_vals, \"lin_coef\":lin_coef}).sort_values(\"lin_coef\", ascending=False)\n",
    "\n",
    "# https://stackoverflow.com/questions/36271302/changing-color-scale-in-seaborn-bar-plot\n",
    "def colors_from_values(values, palette_name):\n",
    "    normalized = (values - min(values)) / (max(values) - min(values))\n",
    "    indices = np.round(normalized * (len(values) - 1)).astype(np.int32)\n",
    "    palette = sns.color_palette(palette_name, len(values))\n",
    "    return np.array(palette).take(indices, axis=0)\n",
    "\n",
    "sns.barplot(x=influence_df[\"character\"], y=influence_df[\"lin_coef\"], ax=ax, palette=colors_from_values(influence_df[\"lin_coef\"], \"RdYlGn\"))\n",
    "influence_df"
   ]
  }
 ],
 "metadata": {
  "kernelspec": {
   "display_name": "Python 3.8.5 ('base')",
   "language": "python",
   "name": "python3"
  },
  "language_info": {
   "codemirror_mode": {
    "name": "ipython",
    "version": 3
   },
   "file_extension": ".py",
   "mimetype": "text/x-python",
   "name": "python",
   "nbconvert_exporter": "python",
   "pygments_lexer": "ipython3",
   "version": "3.8.5"
  },
  "orig_nbformat": 2,
  "vscode": {
   "interpreter": {
    "hash": "f502c9f8cc810ebd22b57e7c79a9d06f7b7c060e6ecfb4908c78b2fe1d232067"
   }
  }
 },
 "nbformat": 4,
 "nbformat_minor": 2
}
